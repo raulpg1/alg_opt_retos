{
 "cells": [
  {
   "cell_type": "markdown",
   "metadata": {
    "id": "kQn6fbhgtH9I"
   },
   "source": [
    "# Algoritmos de optimización - Reto 1\n",
    "\n",
    "Nombre: Raúl Peinado García <br> \n",
    "Github: https://github.com/raulpg1<br> "
   ]
  },
  {
   "cell_type": "markdown",
   "metadata": {
    "id": "_t62Ge7ZuKnC"
   },
   "source": [
    "## Torres de Hanoi con Divide y vencerás\n",
    "\n",
    "Resuelve el problema de las [Torres de Hanoi](https://es.wikipedia.org/wiki/Torres_de_Han%C3%B3i) para un número arbitrario de fichas utilizando la técnica de divide y vencerás. "
   ]
  },
  {
   "cell_type": "code",
   "execution_count": 5,
   "metadata": {},
   "outputs": [],
   "source": [
    "def print_estado(src,aux,dst):\n",
    "    print(\"Torre src \",src)\n",
    "    print(\"Torre aux \",aux)\n",
    "    print(\"Torre dst \",dst)\n",
    "    print(\"-----------------\")"
   ]
  },
  {
   "cell_type": "code",
   "execution_count": 18,
   "metadata": {},
   "outputs": [],
   "source": [
    "def hanoi(n,src,aux,dst):\n",
    "    if n > 0:\n",
    "        hanoi(n-1,src,dst,aux)\n",
    "        disco = src.pop()\n",
    "        dst.append(disco)\n",
    "        print_estado(inicio,auxiliar,destino)\n",
    "        hanoi(n-1,aux,src,dst) "
   ]
  },
  {
   "cell_type": "code",
   "execution_count": 23,
   "metadata": {},
   "outputs": [
    {
     "name": "stdout",
     "output_type": "stream",
     "text": [
      "- - ESTADO INICIAL - -\n",
      "Torre src  ['d2', 'd1']\n",
      "Torre aux  []\n",
      "Torre dst  []\n",
      "-----------------\n",
      "Torre src  ['d2']\n",
      "Torre aux  ['d1']\n",
      "Torre dst  []\n",
      "-----------------\n",
      "Torre src  []\n",
      "Torre aux  ['d1']\n",
      "Torre dst  ['d2']\n",
      "-----------------\n",
      "Torre src  []\n",
      "Torre aux  []\n",
      "Torre dst  ['d2', 'd1']\n",
      "-----------------\n"
     ]
    }
   ],
   "source": [
    "num_torres = 2\n",
    "inicio,auxiliar,destino = ([\"d\"+str(i) for i in range(num_torres,0,-1)],[],[])\n",
    "print(\"- - ESTADO INICIAL - -\")\n",
    "print_estado(inicio,auxiliar,destino)\n",
    "hanoi(num_torres ,inicio,auxiliar,destino)"
   ]
  },
  {
   "cell_type": "code",
   "execution_count": 29,
   "metadata": {},
   "outputs": [
    {
     "name": "stdout",
     "output_type": "stream",
     "text": [
      "- - ESTADO INICIAL - -\n",
      "Torre src  ['d3', 'd2', 'd1']\n",
      "Torre aux  []\n",
      "Torre dst  []\n",
      "-----------------\n",
      "Torre src  ['d3', 'd2']\n",
      "Torre aux  []\n",
      "Torre dst  ['d1']\n",
      "-----------------\n",
      "Torre src  ['d3']\n",
      "Torre aux  ['d2']\n",
      "Torre dst  ['d1']\n",
      "-----------------\n",
      "Torre src  ['d3']\n",
      "Torre aux  ['d2', 'd1']\n",
      "Torre dst  []\n",
      "-----------------\n",
      "Torre src  []\n",
      "Torre aux  ['d2', 'd1']\n",
      "Torre dst  ['d3']\n",
      "-----------------\n",
      "Torre src  ['d1']\n",
      "Torre aux  ['d2']\n",
      "Torre dst  ['d3']\n",
      "-----------------\n",
      "Torre src  ['d1']\n",
      "Torre aux  []\n",
      "Torre dst  ['d3', 'd2']\n",
      "-----------------\n",
      "Torre src  []\n",
      "Torre aux  []\n",
      "Torre dst  ['d3', 'd2', 'd1']\n",
      "-----------------\n"
     ]
    }
   ],
   "source": [
    "num_torres = 3\n",
    "inicio,auxiliar,destino = ([\"d\"+str(i) for i in range(num_torres,0,-1)],[],[])\n",
    "print(\"- - ESTADO INICIAL - -\")\n",
    "print_estado(inicio,auxiliar,destino)\n",
    "hanoi(num_torres ,inicio,auxiliar,destino)"
   ]
  },
  {
   "cell_type": "markdown",
   "metadata": {},
   "source": [
    "## Sucesión de Fibonacci\n",
    "\n",
    "Cálcula el n-ésimo término de la [Sucesión de Fibonacci](https://es.wikipedia.org/wiki/Sucesi%C3%B3n_de_Fibonacci) mediante un algoritmo recursivo y otro iterativo. Representa gráficamente cómo crece el tiempo de cómputo en función del número de términos para ambos algoritmos. "
   ]
  },
  {
   "cell_type": "code",
   "execution_count": 50,
   "metadata": {
    "colab": {
     "base_uri": "https://localhost:8080/"
    },
    "id": "74qZZAekiNYR",
    "outputId": "acc17268-7f87-4de4-ae5a-4fc6ce09d385"
   },
   "outputs": [],
   "source": [
    "#Sucesión_de_Fibonacci\n",
    "def recc_fib(n):\n",
    "    if n == 1:\n",
    "        return 0\n",
    "    elif n <=3:\n",
    "        return 1\n",
    "    else:\n",
    "        return recc_fib(n-1)+recc_fib(n-2)"
   ]
  },
  {
   "cell_type": "code",
   "execution_count": 51,
   "metadata": {},
   "outputs": [],
   "source": [
    "def iter_fib(n):\n",
    "    fib = [1,1]\n",
    "    for elem in range(3,n):\n",
    "        fib.append(fib[-2]+fib[-1])\n",
    "    return fib[-1]"
   ]
  },
  {
   "cell_type": "code",
   "execution_count": 62,
   "metadata": {},
   "outputs": [
    {
     "name": "stdout",
     "output_type": "stream",
     "text": [
      "Número 2 de la sucesión de fib para el algoritmo recursivo \t1\n",
      "Número 2 de la sucesión de fib para el algoritmo recursivo \t1\n",
      "\n",
      "Número 5 de la sucesión de fib para el algoritmo recursivo \t3\n",
      "Número 5 de la sucesión de fib para el algoritmo recursivo \t3\n",
      "\n",
      "Número 8 de la sucesión de fib para el algoritmo recursivo \t13\n",
      "Número 8 de la sucesión de fib para el algoritmo recursivo \t13\n",
      "\n",
      "Número 11 de la sucesión de fib para el algoritmo recursivo \t55\n",
      "Número 11 de la sucesión de fib para el algoritmo recursivo \t55\n",
      "\n",
      "Número 14 de la sucesión de fib para el algoritmo recursivo \t233\n",
      "Número 14 de la sucesión de fib para el algoritmo recursivo \t233\n",
      "\n",
      "Número 17 de la sucesión de fib para el algoritmo recursivo \t987\n",
      "Número 17 de la sucesión de fib para el algoritmo recursivo \t987\n",
      "\n"
     ]
    }
   ],
   "source": [
    "for elem in range (2,18,3):\n",
    "    print(f'Número {elem} de la sucesión de fib para el algoritmo recursivo \\t{recc_fib(elem)}')\n",
    "    print(f'Número {elem} de la sucesión de fib para el algoritmo recursivo \\t{iter_fib(elem)}\\n')"
   ]
  },
  {
   "cell_type": "markdown",
   "metadata": {},
   "source": [
    "Comparación del tiempo de ejecución con las dos implementaciones anteriores"
   ]
  },
  {
   "cell_type": "code",
   "execution_count": 63,
   "metadata": {},
   "outputs": [
    {
     "data": {
      "text/plain": [
       "<matplotlib.legend.Legend at 0x203f16c9fa0>"
      ]
     },
     "execution_count": 63,
     "metadata": {},
     "output_type": "execute_result"
    },
    {
     "data": {
      "image/png": "[encoded data removed]",
      "text/plain": [
       "<Figure size 640x480 with 1 Axes>"
      ]
     },
     "metadata": {},
     "output_type": "display_data"
    }
   ],
   "source": [
    "import time\n",
    "import matplotlib.pyplot as plt\n",
    "\n",
    "time_iter = []\n",
    "time_rec = []\n",
    "for i in range(0,35):\n",
    "\n",
    "    inic = time.time()\n",
    "    iter_fib(i)\n",
    "    time_iter.append(time.time()-inic)\n",
    "\n",
    "    inic = time.time()\n",
    "    recc_fib(i)\n",
    "    time_rec.append(time.time()-inic)\n",
    "    \n",
    "plt.plot(time_iter, label=\"Tiempo algoritmo iterativo\", alpha=0.7)\n",
    "plt.plot(time_rec, label=\"Tiempo algoritmo recursivo\", alpha=0.7)\n",
    "plt.xlabel(\"Número N-ésimo de la sucesión\")\n",
    "plt.ylabel(\"Tiempo en segundos\")\n",
    "plt.title(\"Tiempo para calcular el n-ésimo número de la sucesión de Fibonacci\")\n",
    "plt.legend()"
   ]
  },
  {
   "cell_type": "markdown",
   "metadata": {},
   "source": [
    "Como se puede ver, el tiempo del método iterativo es mucho menor que el del recursivo. El método iterativo tiene una complejidad O(n), mientras que el recursivo es O(2^n)"
   ]
  },
  {
   "cell_type": "markdown",
   "metadata": {
    "id": "RgT5XJsZ429L"
   },
   "source": [
    "## Devolución de cambio por técnica voraz\n",
    "\n",
    "Resuelve el [Problema del Cambio de Moneda](https://es.wikipedia.org/wiki/Problema_de_cambio_de_monedas) utilizando una técnica voraz."
   ]
  },
  {
   "cell_type": "code",
   "execution_count": 45,
   "metadata": {
    "colab": {
     "base_uri": "https://localhost:8080/"
    },
    "id": "uJtftBLU4-ap",
    "outputId": "b52f7a2c-771b-4c2e-81ab-c4c3ea01318d"
   },
   "outputs": [],
   "source": [
    "# Problema del cambio de moneda\n",
    "def cambio_voraz(monedas,cambio):\n",
    "    sol = []\n",
    "    while sum(sol) < cambio:\n",
    "        for m in monedas:\n",
    "            if sum(sol) + m <= cambio:\n",
    "                sol.append(m)\n",
    "                break\n",
    "    return sol"
   ]
  },
  {
   "cell_type": "code",
   "execution_count": 46,
   "metadata": {},
   "outputs": [
    {
     "data": {
      "text/plain": [
       "[11, 5, 1]"
      ]
     },
     "execution_count": 46,
     "metadata": {},
     "output_type": "execute_result"
    }
   ],
   "source": [
    "cambio_voraz(monedas= [11,5,1],cambio = 17)"
   ]
  },
  {
   "cell_type": "code",
   "execution_count": 48,
   "metadata": {},
   "outputs": [
    {
     "data": {
      "text/plain": [
       "[11, 1, 1, 1, 1]"
      ]
     },
     "execution_count": 48,
     "metadata": {},
     "output_type": "execute_result"
    }
   ],
   "source": [
    "cambio_voraz(monedas=[11,5,1],cambio = 15) # error ya que no es el menor número de monedas posible"
   ]
  },
  {
   "cell_type": "markdown",
   "metadata": {},
   "source": [
    "El algoritmo voraz intentará elegir siempre el mayo valor de moneda que sea posible. No siempr es la mejor solucion al problema."
   ]
  },
  {
   "cell_type": "markdown",
   "metadata": {
    "id": "g8M9GTvy_Fa3"
   },
   "source": [
    "## N-Reinas por técnica de vuelta atrás\n",
    "Resuelve el [Problema de las N-Reinas](https://es.wikipedia.org/wiki/Problema_de_las_ocho_reinas) en un tablero de dimensión N mediante la técnica de la vuelta atrás (backtraking)."
   ]
  },
  {
   "cell_type": "code",
   "execution_count": 30,
   "metadata": {
    "id": "FqOPyCmv_K65"
   },
   "outputs": [],
   "source": [
    "def n_reinas_backtraking(sol,fila,N):  \n",
    "    if fila == N: \n",
    "        return f\"\\tSol para {N} reinas -> \"+str(sol)\n",
    "    for columna in range(N):\n",
    "        sol[fila] = columna\n",
    "        if es_sol(sol,fila):\n",
    "            solucion = n_reinas_backtraking(sol,fila+1,N)\n",
    "            if solucion is not None:\n",
    "                print(solucion) \n",
    "            sol[fila:] = -1"
   ]
  },
  {
   "cell_type": "code",
   "execution_count": 31,
   "metadata": {},
   "outputs": [],
   "source": [
    "def es_sol(sol,etapa):\n",
    "    for i in range(0,etapa):\n",
    "        if (sol[i] == sol[etapa]) or (abs(sol[i]-sol[etapa]) == abs(i-etapa)):\n",
    "            return False\n",
    "    return True"
   ]
  },
  {
   "cell_type": "code",
   "execution_count": 32,
   "metadata": {},
   "outputs": [
    {
     "name": "stdout",
     "output_type": "stream",
     "text": [
      "Soluciones para el problema de las 4 reinas:\n",
      "\tSol para 4 reinas -> [1 3 0 2]\n",
      "\tSol para 4 reinas -> [2 0 3 1]\n",
      "\n",
      "\n",
      "Soluciones para el problema de las 5 reinas:\n",
      "\tSol para 5 reinas -> [0 2 4 1 3]\n",
      "\tSol para 5 reinas -> [0 3 1 4 2]\n",
      "\tSol para 5 reinas -> [1 3 0 2 4]\n",
      "\tSol para 5 reinas -> [1 4 2 0 3]\n",
      "\tSol para 5 reinas -> [2 0 3 1 4]\n",
      "\tSol para 5 reinas -> [2 4 1 3 0]\n",
      "\tSol para 5 reinas -> [3 0 2 4 1]\n",
      "\tSol para 5 reinas -> [3 1 4 2 0]\n",
      "\tSol para 5 reinas -> [4 1 3 0 2]\n",
      "\tSol para 5 reinas -> [4 2 0 3 1]\n",
      "\n",
      "\n",
      "Soluciones para el problema de las 6 reinas:\n",
      "\tSol para 6 reinas -> [1 3 5 0 2 4]\n",
      "\tSol para 6 reinas -> [2 5 1 4 0 3]\n",
      "\tSol para 6 reinas -> [3 0 4 1 5 2]\n",
      "\tSol para 6 reinas -> [4 2 0 5 3 1]\n",
      "\n",
      "\n"
     ]
    }
   ],
   "source": [
    "import numpy as np\n",
    "for elem in range(4,7):\n",
    "    N = elem\n",
    "    vect_sol = np.full(N, -1)\n",
    "    print(f\"Soluciones para el problema de las {N} reinas:\")\n",
    "    n_reinas_backtraking(vect_sol,0,N)\n",
    "    print(\"\\n\")"
   ]
  }
 ],
 "metadata": {
  "colab": {
   "provenance": [],
   "toc_visible": true
  },
  "kernelspec": {
   "display_name": "Python 3 (ipykernel)",
   "language": "python",
   "name": "python3"
  },
  "language_info": {
   "codemirror_mode": {
    "name": "ipython",
    "version": 3
   },
   "file_extension": ".py",
   "mimetype": "text/x-python",
   "name": "python",
   "nbconvert_exporter": "python",
   "pygments_lexer": "ipython3",
   "version": "3.9.0"
  }
 },
 "nbformat": 4,
 "nbformat_minor": 4
}
